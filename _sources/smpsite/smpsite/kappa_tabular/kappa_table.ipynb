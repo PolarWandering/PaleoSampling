{
 "cells": [
  {
   "cell_type": "code",
   "execution_count": 1,
   "id": "d250ff2c-a183-4f9c-b428-b16e8dc48e31",
   "metadata": {},
   "outputs": [],
   "source": [
    "import numpy as np\n",
    "import pandas as pd\n",
    "import pmagpy.pmag as pmag\n",
    "import pmagpy.ipmag as ipmag"
   ]
  },
  {
   "cell_type": "code",
   "execution_count": 2,
   "id": "3b6224f7-f688-4f40-8e5e-c48b9454d040",
   "metadata": {},
   "outputs": [
    {
     "name": "stdout",
     "output_type": "stream",
     "text": [
      "CPU times: user 12min 9s, sys: 38.3 s, total: 12min 47s\n",
      "Wall time: 11min 48s\n"
     ]
    }
   ],
   "source": [
    "%%time\n",
    "\n",
    "N_sample = 20000\n",
    "\n",
    "all_kappa = 10 ** np.linspace(0, 4, 200)\n",
    "all_stds = []\n",
    "all_S2 = []\n",
    "\n",
    "for kappa in all_kappa:\n",
    "\n",
    "    dec, inc = ipmag.fishrot(k=kappa,\n",
    "                              n=N_sample, \n",
    "                              dec=0, \n",
    "                              inc=90, \n",
    "                              di_block=False)\n",
    "    \n",
    "    angular_std = np.linalg.norm(90 - np.array(inc)) / np.sqrt(len(inc))\n",
    "    all_stds.append(angular_std)"
   ]
  },
  {
   "cell_type": "code",
   "execution_count": 4,
   "id": "e83e2046-b879-44df-ad2f-94e9bdd91f4c",
   "metadata": {},
   "outputs": [
    {
     "data": {
      "image/png": "[encoded data removed]",
      "text/plain": [
       "<Figure size 432x288 with 1 Axes>"
      ]
     },
     "metadata": {
      "needs_background": "light"
     },
     "output_type": "display_data"
    }
   ],
   "source": [
    "import matplotlib.pyplot as plt\n",
    "\n",
    "plt.plot(all_kappa, all_stds)\n",
    "plt.xscale(\"log\")"
   ]
  },
  {
   "cell_type": "code",
   "execution_count": 5,
   "id": "99d67146-3a2e-4839-99fd-ad81d154570c",
   "metadata": {},
   "outputs": [
    {
     "data": {
      "text/html": [
       "<div>\n",
       "<style scoped>\n",
       "    .dataframe tbody tr th:only-of-type {\n",
       "        vertical-align: middle;\n",
       "    }\n",
       "\n",
       "    .dataframe tbody tr th {\n",
       "        vertical-align: top;\n",
       "    }\n",
       "\n",
       "    .dataframe thead th {\n",
       "        text-align: right;\n",
       "    }\n",
       "</style>\n",
       "<table border=\"1\" class=\"dataframe\">\n",
       "  <thead>\n",
       "    <tr style=\"text-align: right;\">\n",
       "      <th></th>\n",
       "      <th>kappa</th>\n",
       "      <th>std_angular</th>\n",
       "    </tr>\n",
       "  </thead>\n",
       "  <tbody>\n",
       "    <tr>\n",
       "      <th>0</th>\n",
       "      <td>1.000000</td>\n",
       "      <td>77.080839</td>\n",
       "    </tr>\n",
       "    <tr>\n",
       "      <th>1</th>\n",
       "      <td>1.047371</td>\n",
       "      <td>76.860184</td>\n",
       "    </tr>\n",
       "    <tr>\n",
       "      <th>2</th>\n",
       "      <td>1.096986</td>\n",
       "      <td>76.101531</td>\n",
       "    </tr>\n",
       "    <tr>\n",
       "      <th>3</th>\n",
       "      <td>1.148951</td>\n",
       "      <td>74.962904</td>\n",
       "    </tr>\n",
       "    <tr>\n",
       "      <th>4</th>\n",
       "      <td>1.203378</td>\n",
       "      <td>74.008099</td>\n",
       "    </tr>\n",
       "    <tr>\n",
       "      <th>...</th>\n",
       "      <td>...</td>\n",
       "      <td>...</td>\n",
       "    </tr>\n",
       "    <tr>\n",
       "      <th>195</th>\n",
       "      <td>8309.941949</td>\n",
       "      <td>0.892254</td>\n",
       "    </tr>\n",
       "    <tr>\n",
       "      <th>196</th>\n",
       "      <td>8703.591361</td>\n",
       "      <td>0.869336</td>\n",
       "    </tr>\n",
       "    <tr>\n",
       "      <th>197</th>\n",
       "      <td>9115.888300</td>\n",
       "      <td>0.852607</td>\n",
       "    </tr>\n",
       "    <tr>\n",
       "      <th>198</th>\n",
       "      <td>9547.716114</td>\n",
       "      <td>0.827642</td>\n",
       "    </tr>\n",
       "    <tr>\n",
       "      <th>199</th>\n",
       "      <td>10000.000000</td>\n",
       "      <td>0.806838</td>\n",
       "    </tr>\n",
       "  </tbody>\n",
       "</table>\n",
       "<p>200 rows × 2 columns</p>\n",
       "</div>"
      ],
      "text/plain": [
       "            kappa  std_angular\n",
       "0        1.000000    77.080839\n",
       "1        1.047371    76.860184\n",
       "2        1.096986    76.101531\n",
       "3        1.148951    74.962904\n",
       "4        1.203378    74.008099\n",
       "..            ...          ...\n",
       "195   8309.941949     0.892254\n",
       "196   8703.591361     0.869336\n",
       "197   9115.888300     0.852607\n",
       "198   9547.716114     0.827642\n",
       "199  10000.000000     0.806838\n",
       "\n",
       "[200 rows x 2 columns]"
      ]
     },
     "execution_count": 5,
     "metadata": {},
     "output_type": "execute_result"
    }
   ],
   "source": [
    "df = pd.DataFrame({'kappa': all_kappa, 'std_angular': all_stds})\n",
    "df"
   ]
  },
  {
   "cell_type": "code",
   "execution_count": 6,
   "id": "7167f410-7bed-41af-a09a-efdb9589b049",
   "metadata": {},
   "outputs": [],
   "source": [
    "df.to_csv(\"kappa2angular.csv\")"
   ]
  }
 ],
 "metadata": {
  "kernelspec": {
   "display_name": "Python [conda env:.conda-paleostats]",
   "language": "python",
   "name": "conda-env-.conda-paleostats-py"
  },
  "language_info": {
   "codemirror_mode": {
    "name": "ipython",
    "version": 3
   },
   "file_extension": ".py",
   "mimetype": "text/x-python",
   "name": "python",
   "nbconvert_exporter": "python",
   "pygments_lexer": "ipython3",
   "version": "3.10.2"
  }
 },
 "nbformat": 4,
 "nbformat_minor": 5
}
