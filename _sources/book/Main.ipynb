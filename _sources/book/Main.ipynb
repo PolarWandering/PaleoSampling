{
 "cells": [
  {
   "cell_type": "markdown",
   "id": "8b6c0487-afed-4885-9fc5-50db70fcfa88",
   "metadata": {},
   "source": [
    "# Quantitative Analysis of Paleomagnetic Sampling Strategies\n",
    "\n",
    "_Authors: F Sapienza, L. C. Gallo, Y. Zhang, B. Vaes, M. Domeier, N. L. Swanson-Hysell_\n",
    "\n",
    "[![GitHub](https://img.shields.io/badge/github-%23121011.svg?style=for-the-badge&logo=github&logoColor=white)](https://github.com/PolarWandering/PaleoSampling.git)"
   ]
  },
  {
   "cell_type": "code",
   "execution_count": 2,
   "id": "f70fb492-b3f7-409c-8e95-5273dbe281ff",
   "metadata": {},
   "outputs": [
    {
     "data": {
      "text/markdown": [
       "### ⚠️ New preprint available! ⚠️\n",
       "\n",
       "For a detailed description of the project, take a look at [our preprint of a manuscript that is in revision at JGR](https://www.authorea.com/doi/full/10.22541/essoar.168881772.25833701).\n",
       "\n",
       "[![Binder](https://mybinder.org/badge_logo.svg)](https://mybinder.org/v2/gh/PolarWandering/PaleoSampling/HEAD) [![DOI](https://zenodo.org/badge/595793364.svg)](https://zenodo.org/badge/latestdoi/595793364) \n",
       "\n",
       "[![Jupyter Book Badge](https://jupyterbook.org/badge.svg)](https://polarwandering.github.io/PaleoSampling/) [![Build Status](https://github.com/PolarWandering/PaleoSampling/actions/workflows/book.yml/badge.svg?branch=main)](https://github.com/PolarWandering/PaleoSampling/actions/workflows/book.yml?query=branch%3Amain)\n",
       "\n",
       "[![GitHub Actions](https://img.shields.io/badge/github%20actions-%232671E5.svg?style=for-the-badge&logo=githubactions&logoColor=white)](./.github/workflows/book.yml) [![Licence](https://img.shields.io/github/license/Ileriayo/markdown-badges?style=for-the-badge)](./LICENSE)\n",
       "\n",
       "## Quantitative Analysis of Paleomagnetic Sampling Strategies\n",
       "\n",
       "This repository contains all the notebooks and code to reproduce the analysis for the different sampling procedures in order\n",
       "to estimate the precision of different strategies for estimating paleomagnetic poles and paleosecular variation of the magnetic field\n",
       "based on site magnetizations.\n",
       "\n",
       "You can open a cloud JupyterHub version of all the code in this repository and execute it using the following Binder link:\n",
       "\n",
       "[![Binder](https://mybinder.org/badge_logo.svg)](https://mybinder.org/v2/gh/PolarWandering/PaleoSampling/HEAD)\n",
       "\n",
       "Learn more about the Binder project in this [link](https://mybinder.readthedocs.io/en/latest/).\n",
       "\n",
       "The notebooks in this repository can be directly been access thought the following JupyterBook. This link opens a website\n",
       "where all the notebooks can be visualized.\n",
       "\n",
       "[![Jupyter Book Badge](https://jupyterbook.org/badge.svg)](https://polarwandering.github.io/PaleoSampling/)\n",
       "\n",
       "### Organization\n",
       "\n",
       "This repository includes a series of tools and code organized in different folders:\n",
       "- `notebooks`: It includes Jupyter Notebooks with examples of different sampling procedures and the code to parallelize the simulations using Dask (`Parallel.ipynb`).\n",
       "- `figures`: It includes all the Jupyter Notebooks to generate the figures in the paper.\n",
       "- `outputs`: It includes the simulated data from all the simulations used in the figures in `csv` format.\n",
       "- `smpsite`: Python package to run simulations and estimate poles and dispersion (see Installation for more information).\n",
       "\n",
       "We also provide with an `environment.yml` and `Makefile` for setup of the computational environment used for this project.\n",
       "\n",
       "### Installation\n",
       "\n",
       "All the notebooks inside this notebook can be executed after properly setting the environmnet. The `environment.yml` file can be used to\n",
       "install all the required dependencies. Beside some standard Python dependencies, the `environment.yml` file include the installation of\n",
       "`Pmagpy` using pip and the extra installation of the module `smpsite` (included in this repository). The package `smpsite` includes all the code used to make the simulations and compute the\n",
       "estimated poles.\n",
       "\n",
       "In order to install the environment, you can use conda or mamba (see [Managing Environments](https://conda.io/projects/conda/en/latest/user-guide/tasks/manage-environments.html) for more information) with `conda env create -f environment.yml`. Alternativelly, we included a `Makefile` that allow to create the conda environment and install the associated iPython kernel so this environment can be accessible though Jupyter notebooks all at once. In order to do this, you just need to open a terminal where the repository is located and enter\n",
       "```\n",
       "make env\n",
       "```\n",
       "\n",
       "Alternatively, if you just want to install the `smpsite` module, you can clone this repository and do\n",
       "```\n",
       "pip install smpsite\n",
       "```\n",
       "or\n",
       "```\n",
       "pip install -e smpsite\n",
       "```\n",
       "if you are working in developer mode.\n",
       "\n",
       "\n",
       "### Makefile\n",
       "\n",
       "The current repository contains a `Makefile` that allows the user to run different routines on the code. You can move in a terminal to the\n",
       "path to this repository and use the following commands to trigger their respective actions. \n",
       "- `make env`: Creates the conda environment associated with the `environment.yml` file and then creates the respective iPython kernel such that the \n",
       "environment can be accessed via Jupyter notebooks. \n",
       "- `make help`: Prints a short description of all available commands and their explanation. \n",
       "\n",
       "### How to cite 📖\n",
       "\n",
       "If you want to cite this work, please use this BibTex citation from [our latest preprint](https://gmd.copernicus.org/preprints/gmd-2023-120/):\n",
       "```\n",
       "@article{sapienza2023quantitative,\n",
       "  title={Quantitative Analysis of Paleomagnetic Sampling Strategies},\n",
       "  author={Sapienza, Facundo and Gallo, Leandro Cesar and Zhang, Yiming and Vaes, Bram and Domeier, Mathew and Swanson-Hysell, Nicholas L},\n",
       "  journal={Authorea Preprints},\n",
       "  year={2023},\n",
       "  publisher={Authorea}\n",
       "}\n",
       "```\n",
       "If you want to cite the software in this repository, you can instead use the following DOI in Zenodo:\n",
       "\n",
       "[![DOI](https://zenodo.org/badge/595793364.svg)](https://zenodo.org/badge/latestdoi/595793364)\n"
      ],
      "text/plain": [
       "<IPython.core.display.Markdown object>"
      ]
     },
     "metadata": {},
     "output_type": "display_data"
    }
   ],
   "source": [
    "from IPython.display import Markdown, display\n",
    "\n",
    "display(Markdown(\"../README.md\"))"
   ]
  }
 ],
 "metadata": {
  "kernelspec": {
   "display_name": "Python 3 (ipykernel)",
   "language": "python",
   "name": "python3"
  },
  "language_info": {
   "codemirror_mode": {
    "name": "ipython",
    "version": 3
   },
   "file_extension": ".py",
   "mimetype": "text/x-python",
   "name": "python",
   "nbconvert_exporter": "python",
   "pygments_lexer": "ipython3",
   "version": "3.10.9"
  }
 },
 "nbformat": 4,
 "nbformat_minor": 5
}
