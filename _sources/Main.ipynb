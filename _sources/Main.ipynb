{
 "cells": [
  {
   "cell_type": "markdown",
   "id": "8b6c0487-afed-4885-9fc5-50db70fcfa88",
   "metadata": {},
   "source": [
    "# Quantitative Analysis of Paleomagnetic Sampling Strategies\n",
    "\n",
    "Authors: F Sapienza, L. C. Gallo, Y. Zhang, B. Vaes, M. Domeier, N. L. Swanson-Hysell"
   ]
  }
 ],
 "metadata": {
  "kernelspec": {
   "display_name": "Python 3 (ipykernel)",
   "language": "python",
   "name": "python3"
  },
  "language_info": {
   "codemirror_mode": {
    "name": "ipython",
    "version": 3
   },
   "file_extension": ".py",
   "mimetype": "text/x-python",
   "name": "python",
   "nbconvert_exporter": "python",
   "pygments_lexer": "ipython3",
   "version": "3.10.8"
  }
 },
 "nbformat": 4,
 "nbformat_minor": 5
}
