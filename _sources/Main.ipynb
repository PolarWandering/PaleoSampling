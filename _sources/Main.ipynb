{
 "cells": [
  {
   "cell_type": "markdown",
   "id": "8b6c0487-afed-4885-9fc5-50db70fcfa88",
   "metadata": {},
   "source": [
    "# Quantitative Analysis of Paleomagnetic Sampling Strategies\n",
    "\n",
    "_Authors: F Sapienza, L. C. Gallo, Y. Zhang, B. Vaes, M. Domeier, N. L. Swanson-Hysell_\n",
    "\n",
    "This JupytertBook contains all the requirement notebooks and code to reproduce the analysis for the different sampling procedures in order\n",
    "to estimate the precision of different strategies at the moment of estimating paleomagnetic poles and secular variation of the magnetic field \n",
    "based on site observations. \n",
    "\n",
    "You can open a cloud JupyterHub version of all the code in this repository and execute it using the following Binder link:\n",
    "\n",
    "[![Binder](https://mybinder.org/badge_logo.svg)](https://mybinder.org/v2/gh/PolarWandering/PaleoSampling/HEAD)\n"
   ]
  }
 ],
 "metadata": {
  "kernelspec": {
   "display_name": "Python 3 (ipykernel)",
   "language": "python",
   "name": "python3"
  },
  "language_info": {
   "codemirror_mode": {
    "name": "ipython",
    "version": 3
   },
   "file_extension": ".py",
   "mimetype": "text/x-python",
   "name": "python",
   "nbconvert_exporter": "python",
   "pygments_lexer": "ipython3",
   "version": "3.10.8"
  }
 },
 "nbformat": 4,
 "nbformat_minor": 5
}
